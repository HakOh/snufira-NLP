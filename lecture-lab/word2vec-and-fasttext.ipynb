{
 "cells": [
  {
   "cell_type": "code",
   "execution_count": 1,
   "metadata": {},
   "outputs": [
    {
     "name": "stderr",
     "output_type": "stream",
     "text": [
      "2017-11-22 15:37:00,210 : INFO : collecting all words and their counts\n",
      "2017-11-22 15:37:00,218 : INFO : PROGRESS: at sentence #0, processed 0 words, keeping 0 word types\n",
      "2017-11-22 15:37:07,411 : INFO : collected 253854 word types from a corpus of 17005207 raw words and 1701 sentences\n",
      "2017-11-22 15:37:07,412 : INFO : Loading a fresh vocabulary\n",
      "2017-11-22 15:37:07,730 : INFO : min_count=5 retains 71290 unique words (28% of original 253854, drops 182564)\n",
      "2017-11-22 15:37:07,731 : INFO : min_count=5 leaves 16718844 word corpus (98% of original 17005207, drops 286363)\n",
      "2017-11-22 15:37:07,965 : INFO : deleting the raw counts dictionary of 253854 items\n",
      "2017-11-22 15:37:07,977 : INFO : sample=0.001 downsamples 38 most-common words\n",
      "2017-11-22 15:37:07,978 : INFO : downsampling leaves estimated 12506280 word corpus (74.8% of prior 16718844)\n",
      "2017-11-22 15:37:07,979 : INFO : estimated required memory for 71290 words and 200 dimensions: 149709000 bytes\n",
      "2017-11-22 15:37:08,291 : INFO : resetting layer weights\n",
      "2017-11-22 15:37:09,345 : INFO : training model with 3 workers on 71290 vocabulary and 200 features, using sg=0 hs=0 sample=0.001 negative=5 window=5\n",
      "2017-11-22 15:37:10,350 : INFO : PROGRESS: at 0.80% examples, 500559 words/s, in_qsize 5, out_qsize 0\n",
      "2017-11-22 15:37:11,357 : INFO : PROGRESS: at 1.80% examples, 555960 words/s, in_qsize 5, out_qsize 0\n",
      "2017-11-22 15:37:12,362 : INFO : PROGRESS: at 2.82% examples, 582365 words/s, in_qsize 5, out_qsize 0\n",
      "2017-11-22 15:37:13,373 : INFO : PROGRESS: at 3.86% examples, 596440 words/s, in_qsize 5, out_qsize 0\n",
      "2017-11-22 15:37:14,382 : INFO : PROGRESS: at 4.88% examples, 604824 words/s, in_qsize 5, out_qsize 0\n",
      "2017-11-22 15:37:15,392 : INFO : PROGRESS: at 5.74% examples, 593469 words/s, in_qsize 5, out_qsize 0\n",
      "2017-11-22 15:37:16,406 : INFO : PROGRESS: at 6.63% examples, 588458 words/s, in_qsize 5, out_qsize 0\n",
      "2017-11-22 15:37:17,418 : INFO : PROGRESS: at 7.48% examples, 580840 words/s, in_qsize 5, out_qsize 0\n",
      "2017-11-22 15:37:18,420 : INFO : PROGRESS: at 8.40% examples, 580056 words/s, in_qsize 5, out_qsize 0\n",
      "2017-11-22 15:37:19,422 : INFO : PROGRESS: at 9.35% examples, 581753 words/s, in_qsize 5, out_qsize 0\n",
      "2017-11-22 15:37:20,428 : INFO : PROGRESS: at 10.34% examples, 584816 words/s, in_qsize 5, out_qsize 0\n",
      "2017-11-22 15:37:21,428 : INFO : PROGRESS: at 11.35% examples, 589067 words/s, in_qsize 5, out_qsize 0\n",
      "2017-11-22 15:37:22,446 : INFO : PROGRESS: at 12.37% examples, 592281 words/s, in_qsize 5, out_qsize 0\n",
      "2017-11-22 15:37:23,455 : INFO : PROGRESS: at 13.39% examples, 595334 words/s, in_qsize 6, out_qsize 0\n",
      "2017-11-22 15:37:24,467 : INFO : PROGRESS: at 14.27% examples, 592217 words/s, in_qsize 5, out_qsize 0\n",
      "2017-11-22 15:37:25,476 : INFO : PROGRESS: at 15.25% examples, 592341 words/s, in_qsize 5, out_qsize 0\n",
      "2017-11-22 15:37:26,497 : INFO : PROGRESS: at 16.06% examples, 586238 words/s, in_qsize 5, out_qsize 0\n",
      "2017-11-22 15:37:27,504 : INFO : PROGRESS: at 16.90% examples, 582428 words/s, in_qsize 5, out_qsize 0\n",
      "2017-11-22 15:37:28,508 : INFO : PROGRESS: at 17.88% examples, 584176 words/s, in_qsize 5, out_qsize 0\n",
      "2017-11-22 15:37:29,508 : INFO : PROGRESS: at 18.87% examples, 585624 words/s, in_qsize 6, out_qsize 0\n",
      "2017-11-22 15:37:30,515 : INFO : PROGRESS: at 19.86% examples, 586776 words/s, in_qsize 6, out_qsize 0\n",
      "2017-11-22 15:37:31,518 : INFO : PROGRESS: at 20.88% examples, 589040 words/s, in_qsize 5, out_qsize 0\n",
      "2017-11-22 15:37:32,533 : INFO : PROGRESS: at 21.90% examples, 590458 words/s, in_qsize 5, out_qsize 0\n",
      "2017-11-22 15:37:33,533 : INFO : PROGRESS: at 22.92% examples, 592056 words/s, in_qsize 5, out_qsize 0\n",
      "2017-11-22 15:37:34,547 : INFO : PROGRESS: at 23.87% examples, 591874 words/s, in_qsize 6, out_qsize 0\n",
      "2017-11-22 15:37:35,558 : INFO : PROGRESS: at 24.67% examples, 588239 words/s, in_qsize 5, out_qsize 0\n",
      "2017-11-22 15:37:36,566 : INFO : PROGRESS: at 25.63% examples, 588806 words/s, in_qsize 5, out_qsize 0\n",
      "2017-11-22 15:37:37,575 : INFO : PROGRESS: at 26.61% examples, 589687 words/s, in_qsize 4, out_qsize 1\n",
      "2017-11-22 15:37:38,577 : INFO : PROGRESS: at 27.44% examples, 587505 words/s, in_qsize 5, out_qsize 0\n",
      "2017-11-22 15:37:39,590 : INFO : PROGRESS: at 28.43% examples, 588274 words/s, in_qsize 5, out_qsize 0\n",
      "2017-11-22 15:37:40,597 : INFO : PROGRESS: at 29.45% examples, 589890 words/s, in_qsize 5, out_qsize 0\n",
      "2017-11-22 15:37:41,607 : INFO : PROGRESS: at 30.49% examples, 591520 words/s, in_qsize 5, out_qsize 0\n",
      "2017-11-22 15:37:42,617 : INFO : PROGRESS: at 31.52% examples, 593132 words/s, in_qsize 5, out_qsize 0\n",
      "2017-11-22 15:37:43,630 : INFO : PROGRESS: at 32.55% examples, 594318 words/s, in_qsize 5, out_qsize 0\n",
      "2017-11-22 15:37:44,655 : INFO : PROGRESS: at 33.52% examples, 594378 words/s, in_qsize 5, out_qsize 0\n",
      "2017-11-22 15:37:45,659 : INFO : PROGRESS: at 34.32% examples, 591806 words/s, in_qsize 5, out_qsize 0\n",
      "2017-11-22 15:37:46,659 : INFO : PROGRESS: at 35.27% examples, 591607 words/s, in_qsize 5, out_qsize 0\n",
      "2017-11-22 15:37:47,709 : INFO : PROGRESS: at 36.26% examples, 591329 words/s, in_qsize 5, out_qsize 0\n",
      "2017-11-22 15:37:48,721 : INFO : PROGRESS: at 37.03% examples, 588239 words/s, in_qsize 5, out_qsize 0\n",
      "2017-11-22 15:37:49,726 : INFO : PROGRESS: at 38.04% examples, 589339 words/s, in_qsize 5, out_qsize 0\n",
      "2017-11-22 15:37:50,728 : INFO : PROGRESS: at 39.04% examples, 590011 words/s, in_qsize 5, out_qsize 0\n",
      "2017-11-22 15:37:51,735 : INFO : PROGRESS: at 40.09% examples, 591525 words/s, in_qsize 5, out_qsize 0\n",
      "2017-11-22 15:37:52,740 : INFO : PROGRESS: at 41.14% examples, 592830 words/s, in_qsize 5, out_qsize 0\n",
      "2017-11-22 15:37:53,742 : INFO : PROGRESS: at 42.19% examples, 593982 words/s, in_qsize 5, out_qsize 0\n",
      "2017-11-22 15:37:54,746 : INFO : PROGRESS: at 43.21% examples, 594928 words/s, in_qsize 6, out_qsize 1\n",
      "2017-11-22 15:37:55,747 : INFO : PROGRESS: at 44.24% examples, 596044 words/s, in_qsize 5, out_qsize 0\n",
      "2017-11-22 15:37:56,759 : INFO : PROGRESS: at 45.30% examples, 597398 words/s, in_qsize 5, out_qsize 0\n",
      "2017-11-22 15:37:57,771 : INFO : PROGRESS: at 46.36% examples, 598766 words/s, in_qsize 5, out_qsize 0\n",
      "2017-11-22 15:37:58,771 : INFO : PROGRESS: at 47.38% examples, 599750 words/s, in_qsize 5, out_qsize 0\n",
      "2017-11-22 15:37:59,781 : INFO : PROGRESS: at 48.41% examples, 600446 words/s, in_qsize 5, out_qsize 0\n",
      "2017-11-22 15:38:00,790 : INFO : PROGRESS: at 49.44% examples, 601312 words/s, in_qsize 5, out_qsize 0\n",
      "2017-11-22 15:38:01,796 : INFO : PROGRESS: at 50.45% examples, 601861 words/s, in_qsize 5, out_qsize 1\n",
      "2017-11-22 15:38:02,806 : INFO : PROGRESS: at 51.50% examples, 602800 words/s, in_qsize 6, out_qsize 0\n",
      "2017-11-22 15:38:03,808 : INFO : PROGRESS: at 52.50% examples, 603218 words/s, in_qsize 5, out_qsize 0\n",
      "2017-11-22 15:38:04,821 : INFO : PROGRESS: at 53.56% examples, 604148 words/s, in_qsize 5, out_qsize 0\n",
      "2017-11-22 15:38:05,831 : INFO : PROGRESS: at 54.60% examples, 605011 words/s, in_qsize 5, out_qsize 0\n",
      "2017-11-22 15:38:06,843 : INFO : PROGRESS: at 55.67% examples, 605703 words/s, in_qsize 4, out_qsize 1\n",
      "2017-11-22 15:38:07,846 : INFO : PROGRESS: at 56.71% examples, 606356 words/s, in_qsize 5, out_qsize 0\n",
      "2017-11-22 15:38:08,853 : INFO : PROGRESS: at 57.73% examples, 606838 words/s, in_qsize 5, out_qsize 0\n",
      "2017-11-22 15:38:09,858 : INFO : PROGRESS: at 58.77% examples, 607373 words/s, in_qsize 5, out_qsize 0\n",
      "2017-11-22 15:38:10,870 : INFO : PROGRESS: at 59.80% examples, 607860 words/s, in_qsize 5, out_qsize 0\n",
      "2017-11-22 15:38:11,875 : INFO : PROGRESS: at 60.87% examples, 608796 words/s, in_qsize 5, out_qsize 0\n",
      "2017-11-22 15:38:12,877 : INFO : PROGRESS: at 61.92% examples, 609348 words/s, in_qsize 5, out_qsize 0\n",
      "2017-11-22 15:38:13,891 : INFO : PROGRESS: at 62.96% examples, 609862 words/s, in_qsize 6, out_qsize 0\n",
      "2017-11-22 15:38:14,892 : INFO : PROGRESS: at 64.00% examples, 610417 words/s, in_qsize 5, out_qsize 0\n",
      "2017-11-22 15:38:15,904 : INFO : PROGRESS: at 65.06% examples, 611140 words/s, in_qsize 6, out_qsize 0\n",
      "2017-11-22 15:38:16,909 : INFO : PROGRESS: at 66.09% examples, 611758 words/s, in_qsize 5, out_qsize 0\n",
      "2017-11-22 15:38:17,913 : INFO : PROGRESS: at 67.11% examples, 612251 words/s, in_qsize 5, out_qsize 0\n",
      "2017-11-22 15:38:18,921 : INFO : PROGRESS: at 68.16% examples, 612799 words/s, in_qsize 5, out_qsize 0\n"
     ]
    },
    {
     "name": "stderr",
     "output_type": "stream",
     "text": [
      "2017-11-22 15:38:19,933 : INFO : PROGRESS: at 69.22% examples, 613430 words/s, in_qsize 5, out_qsize 0\n",
      "2017-11-22 15:38:20,937 : INFO : PROGRESS: at 70.25% examples, 613914 words/s, in_qsize 5, out_qsize 0\n",
      "2017-11-22 15:38:21,950 : INFO : PROGRESS: at 71.31% examples, 614512 words/s, in_qsize 4, out_qsize 1\n",
      "2017-11-22 15:38:22,959 : INFO : PROGRESS: at 72.36% examples, 615006 words/s, in_qsize 5, out_qsize 0\n",
      "2017-11-22 15:38:23,973 : INFO : PROGRESS: at 73.39% examples, 615323 words/s, in_qsize 5, out_qsize 0\n",
      "2017-11-22 15:38:24,976 : INFO : PROGRESS: at 74.45% examples, 615945 words/s, in_qsize 5, out_qsize 0\n",
      "2017-11-22 15:38:26,001 : INFO : PROGRESS: at 75.51% examples, 616149 words/s, in_qsize 5, out_qsize 0\n",
      "2017-11-22 15:38:27,013 : INFO : PROGRESS: at 76.48% examples, 615935 words/s, in_qsize 6, out_qsize 0\n",
      "2017-11-22 15:38:28,016 : INFO : PROGRESS: at 77.17% examples, 613509 words/s, in_qsize 4, out_qsize 1\n",
      "2017-11-22 15:38:29,017 : INFO : PROGRESS: at 78.01% examples, 612471 words/s, in_qsize 5, out_qsize 0\n",
      "2017-11-22 15:38:30,030 : INFO : PROGRESS: at 78.80% examples, 610814 words/s, in_qsize 5, out_qsize 0\n",
      "2017-11-22 15:38:31,031 : INFO : PROGRESS: at 79.78% examples, 610756 words/s, in_qsize 5, out_qsize 0\n",
      "2017-11-22 15:38:32,032 : INFO : PROGRESS: at 80.80% examples, 611097 words/s, in_qsize 6, out_qsize 0\n",
      "2017-11-22 15:38:33,038 : INFO : PROGRESS: at 81.81% examples, 611192 words/s, in_qsize 5, out_qsize 0\n",
      "2017-11-22 15:38:34,046 : INFO : PROGRESS: at 82.85% examples, 611532 words/s, in_qsize 5, out_qsize 0\n",
      "2017-11-22 15:38:35,052 : INFO : PROGRESS: at 83.84% examples, 611626 words/s, in_qsize 5, out_qsize 0\n",
      "2017-11-22 15:38:36,070 : INFO : PROGRESS: at 84.76% examples, 611115 words/s, in_qsize 5, out_qsize 0\n",
      "2017-11-22 15:38:37,093 : INFO : PROGRESS: at 85.76% examples, 611172 words/s, in_qsize 6, out_qsize 0\n",
      "2017-11-22 15:38:38,102 : INFO : PROGRESS: at 86.75% examples, 611281 words/s, in_qsize 5, out_qsize 0\n",
      "2017-11-22 15:38:39,112 : INFO : PROGRESS: at 87.80% examples, 611728 words/s, in_qsize 5, out_qsize 0\n",
      "2017-11-22 15:38:40,151 : INFO : PROGRESS: at 88.58% examples, 610185 words/s, in_qsize 5, out_qsize 0\n",
      "2017-11-22 15:38:41,164 : INFO : PROGRESS: at 89.42% examples, 609150 words/s, in_qsize 5, out_qsize 0\n",
      "2017-11-22 15:38:42,170 : INFO : PROGRESS: at 90.43% examples, 609381 words/s, in_qsize 5, out_qsize 0\n",
      "2017-11-22 15:38:43,192 : INFO : PROGRESS: at 91.44% examples, 609535 words/s, in_qsize 5, out_qsize 0\n",
      "2017-11-22 15:38:44,198 : INFO : PROGRESS: at 92.04% examples, 607038 words/s, in_qsize 5, out_qsize 1\n",
      "2017-11-22 15:38:45,214 : INFO : PROGRESS: at 92.82% examples, 605681 words/s, in_qsize 5, out_qsize 0\n",
      "2017-11-22 15:38:46,226 : INFO : PROGRESS: at 93.67% examples, 604908 words/s, in_qsize 5, out_qsize 0\n",
      "2017-11-22 15:38:47,232 : INFO : PROGRESS: at 94.53% examples, 604194 words/s, in_qsize 5, out_qsize 0\n",
      "2017-11-22 15:38:48,248 : INFO : PROGRESS: at 95.34% examples, 602995 words/s, in_qsize 5, out_qsize 0\n",
      "2017-11-22 15:38:49,271 : INFO : PROGRESS: at 96.37% examples, 603172 words/s, in_qsize 5, out_qsize 0\n",
      "2017-11-22 15:38:50,275 : INFO : PROGRESS: at 97.14% examples, 601981 words/s, in_qsize 5, out_qsize 0\n",
      "2017-11-22 15:38:51,309 : INFO : PROGRESS: at 98.00% examples, 601166 words/s, in_qsize 5, out_qsize 0\n",
      "2017-11-22 15:38:52,341 : INFO : PROGRESS: at 98.91% examples, 600579 words/s, in_qsize 5, out_qsize 0\n",
      "2017-11-22 15:38:53,358 : INFO : PROGRESS: at 99.65% examples, 599127 words/s, in_qsize 4, out_qsize 1\n",
      "2017-11-22 15:38:53,733 : INFO : worker thread finished; awaiting finish of 2 more threads\n",
      "2017-11-22 15:38:53,747 : INFO : worker thread finished; awaiting finish of 1 more threads\n",
      "2017-11-22 15:38:53,757 : INFO : worker thread finished; awaiting finish of 0 more threads\n",
      "2017-11-22 15:38:53,758 : INFO : training on 85026035 raw words (62532217 effective words) took 104.4s, 598934 effective words/s\n",
      "2017-11-22 15:38:53,759 : INFO : saving Word2Vec object under text8.model, separately None\n",
      "2017-11-22 15:38:53,761 : INFO : storing np array 'syn0' to text8.model.wv.syn0.npy\n",
      "2017-11-22 15:38:53,859 : INFO : not storing attribute syn0norm\n",
      "2017-11-22 15:38:53,862 : INFO : storing np array 'syn1neg' to text8.model.syn1neg.npy\n",
      "2017-11-22 15:38:53,944 : INFO : not storing attribute cum_table\n",
      "2017-11-22 15:38:54,171 : INFO : saved text8.model\n",
      "2017-11-22 15:38:54,172 : INFO : storing 71290x200 projection weights into text.model.bin\n"
     ]
    }
   ],
   "source": [
    "from gensim.models import word2vec\n",
    "\n",
    "import logging\n",
    "logging.basicConfig(format='%(asctime)s : %(levelname)s : %(message)s', level=logging.INFO)\n",
    "\n",
    "sentences = word2vec.Text8Corpus('text8')\n",
    "\n",
    "model = word2vec.Word2Vec(sentences, size=200)\n",
    "\n",
    "#save as regular word2vec\n",
    "model.save('text8.model')\n",
    "\n",
    "#save as binary format\n",
    "model.wv.save_word2vec_format('text.model.bin', binary=True)"
   ]
  },
  {
   "cell_type": "code",
   "execution_count": 13,
   "metadata": {},
   "outputs": [
    {
     "name": "stderr",
     "output_type": "stream",
     "text": [
      "2017-11-22 15:46:43,934 : INFO : loading Word2Vec object from text8.model\n",
      "2017-11-22 15:46:44,193 : INFO : loading wv recursively from text8.model.wv.* with mmap=None\n",
      "2017-11-22 15:46:44,194 : INFO : loading syn0 from text8.model.wv.syn0.npy with mmap=None\n",
      "2017-11-22 15:46:44,289 : INFO : setting ignored attribute syn0norm to None\n",
      "2017-11-22 15:46:44,290 : INFO : loading syn1neg from text8.model.syn1neg.npy with mmap=None\n",
      "2017-11-22 15:46:44,343 : INFO : setting ignored attribute cum_table to None\n",
      "2017-11-22 15:46:44,344 : INFO : loaded text8.model\n",
      "2017-11-22 15:46:44,593 : INFO : loading projection weights from text8_fasttext_model.vec\n",
      "2017-11-22 15:47:04,428 : INFO : loaded (71290, 300) matrix from text8_fasttext_model.vec\n"
     ]
    }
   ],
   "source": [
    "from gensim.models import word2vec\n",
    "import logging\n",
    "logging.basicConfig(format='%(asctime)s : %(levelname)s : %(message)s', level=logging.INFO)\n",
    "\n",
    "model= word2vec.Word2Vec.load('text8.model')\n",
    "model1 = word2vec.KeyedVectors.load_word2vec_format('text8_fasttext_model.vec')"
   ]
  },
  {
   "cell_type": "code",
   "execution_count": 15,
   "metadata": {},
   "outputs": [
    {
     "name": "stdout",
     "output_type": "stream",
     "text": [
      "[('loving', 0.667399525642395), ('grace', 0.6309105157852173), ('affection', 0.6280337572097778)]\n",
      "[('loves', 0.5277274250984192), ('lovely', 0.5145193338394165), ('lover', 0.5090032815933228)]\n"
     ]
    }
   ],
   "source": [
    "print(model.most_similar(['love'], topn=3))\n",
    "print(model1.most_similar(['love'], topn=3))\n"
   ]
  },
  {
   "cell_type": "code",
   "execution_count": 16,
   "metadata": {},
   "outputs": [
    {
     "name": "stdout",
     "output_type": "stream",
     "text": [
      "[('prince', 0.6590301990509033), ('queen', 0.6566243171691895), ('kings', 0.6512541174888611)]\n",
      "[('kings', 0.5151034593582153), ('kicking', 0.4945037066936493), ('kingly', 0.4832953214645386)]\n"
     ]
    }
   ],
   "source": [
    "print(model.most_similar(['king'], topn=3))\n",
    "print(model1.most_similar(['king'], topn=3))\n"
   ]
  },
  {
   "cell_type": "code",
   "execution_count": 17,
   "metadata": {},
   "outputs": [
    {
     "name": "stdout",
     "output_type": "stream",
     "text": [
      "[('princess', 0.7375422120094299), ('elizabeth', 0.73309725522995), ('prince', 0.6653299331665039)]\n",
      "[('princess', 0.7375422120094299), ('elizabeth', 0.73309725522995), ('prince', 0.6653299331665039)]\n"
     ]
    }
   ],
   "source": [
    "print(model.most_similar(['queen'], topn=3))\n",
    "print(model.most_similar(['queen'], topn=3))\n"
   ]
  },
  {
   "cell_type": "code",
   "execution_count": 18,
   "metadata": {},
   "outputs": [
    {
     "name": "stdout",
     "output_type": "stream",
     "text": [
      "[('queen', 0.6614571213722229)]\n",
      "[('womanizing', 0.4115394055843353)]\n"
     ]
    }
   ],
   "source": [
    "print(model.most_similar(positive=['woman', 'king'], negative=['man'], topn=1))\n",
    "\n",
    "print(model1.most_similar(positive=['woman', 'king'], negative=['man'], topn=1))"
   ]
  },
  {
   "cell_type": "code",
   "execution_count": null,
   "metadata": {
    "collapsed": true
   },
   "outputs": [],
   "source": []
  },
  {
   "cell_type": "code",
   "execution_count": null,
   "metadata": {
    "collapsed": true
   },
   "outputs": [],
   "source": []
  },
  {
   "cell_type": "code",
   "execution_count": null,
   "metadata": {
    "collapsed": true
   },
   "outputs": [],
   "source": []
  },
  {
   "cell_type": "code",
   "execution_count": null,
   "metadata": {
    "collapsed": true
   },
   "outputs": [],
   "source": []
  },
  {
   "cell_type": "code",
   "execution_count": null,
   "metadata": {
    "collapsed": true
   },
   "outputs": [],
   "source": []
  }
 ],
 "metadata": {
  "kernelspec": {
   "display_name": "Python 3",
   "language": "python",
   "name": "python3"
  },
  "language_info": {
   "codemirror_mode": {
    "name": "ipython",
    "version": 3
   },
   "file_extension": ".py",
   "mimetype": "text/x-python",
   "name": "python",
   "nbconvert_exporter": "python",
   "pygments_lexer": "ipython3",
   "version": "3.6.1"
  }
 },
 "nbformat": 4,
 "nbformat_minor": 2
}
